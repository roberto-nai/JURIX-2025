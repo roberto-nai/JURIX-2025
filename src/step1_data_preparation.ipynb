{
 "cells": [
  {
   "metadata": {},
   "cell_type": "markdown",
   "source": "# Data preparation",
   "id": "2c3539ef92f3a3f7"
  },
  {
   "metadata": {
    "ExecuteTime": {
     "end_time": "2025-08-28T15:20:33.876753Z",
     "start_time": "2025-08-28T15:20:33.540266Z"
    }
   },
   "cell_type": "code",
   "source": [
    "import xml.etree.ElementTree as ET\n",
    "from os import walk\n",
    "from src.vars import DATA_DIR, OUTPUT_DIR\n",
    "\n",
    "import pandas as pd\n",
    "import nltk\n",
    "from nltk.stem import SnowballStemmer\n",
    "from nltk.tokenize import word_tokenize"
   ],
   "id": "6bdecb48abc4456c",
   "outputs": [],
   "execution_count": 1
  },
  {
   "metadata": {},
   "cell_type": "markdown",
   "source": "## Complementary info extraction",
   "id": "5b0b941ef9d74aa9"
  },
  {
   "cell_type": "code",
   "id": "initial_id",
   "metadata": {
    "collapsed": true,
    "ExecuteTime": {
     "end_time": "2025-08-28T15:20:34.014157Z",
     "start_time": "2025-08-28T15:20:33.992534Z"
    }
   },
   "source": [
    "# getting filenames in folder\n",
    "\n",
    "filenames_2022 = [f\"{DATA_DIR}/2022/{f}\" for f in next(walk(f\"{DATA_DIR}/2022\"), (None, None, []))[2]]"
   ],
   "outputs": [],
   "execution_count": 2
  },
  {
   "metadata": {
    "ExecuteTime": {
     "end_time": "2025-08-28T15:20:51.328201Z",
     "start_time": "2025-08-28T15:20:34.039791Z"
    }
   },
   "cell_type": "code",
   "source": [
    "# extraction of the \"complementary info\" section\n",
    "\n",
    "df = pd.DataFrame(columns=['case_id', 'complementary_info'])\n",
    "\n",
    "for f in filenames_2022:\n",
    "    tree = ET.parse(f)\n",
    "    root = tree.getroot()\n",
    "\n",
    "    case_id = 0\n",
    "    complementary_info = ''\n",
    "\n",
    "    for tag1 in root:\n",
    "        tag = tag1.tag[tag1.tag.index('}')+1:]\n",
    "        if tag == 'CODED_DATA_SECTION':\n",
    "            for tag2 in tag1:\n",
    "                if tag2.tag[tag2.tag.index('}')+1:] == 'NOTICE_DATA':\n",
    "                    for tag3 in tag2:\n",
    "                        if tag3.tag[tag3.tag.index('}')+1:] == 'NO_DOC_OJS':\n",
    "                            case_id = tag3.text\n",
    "                            case_id = case_id[case_id.index(' ')+1:]\n",
    "        elif tag == 'FORM_SECTION':\n",
    "            for form in tag1:\n",
    "                for section in form:\n",
    "                    if section.tag[section.tag.index('}')+1:] == 'COMPLEMENTARY_INFO':\n",
    "                        for subsection in section:\n",
    "                            if subsection.tag[subsection.tag.index('}')+1:] == 'INFO_ADD':\n",
    "                                for p in subsection:\n",
    "                                    complementary_info += f\"\\n{' '.join(p.text.split())}\"\n",
    "\n",
    "    if complementary_info == '':\n",
    "        continue\n",
    "    df.loc[len(df)] = [case_id, complementary_info[1:]]\n",
    "\n",
    "df.to_csv(f'{OUTPUT_DIR}/df_complementary_info_raw.csv', index=False)"
   ],
   "id": "5dd91004fc44f89a",
   "outputs": [],
   "execution_count": 3
  },
  {
   "metadata": {
    "ExecuteTime": {
     "end_time": "2025-08-28T15:21:21.481062Z",
     "start_time": "2025-08-28T15:20:51.336733Z"
    }
   },
   "cell_type": "code",
   "source": [
    "# data filtering: only instances with dates inside (forma dd/mm/yyyy)\n",
    "\n",
    "date_pattern = r'.*\\d{2}[./-]\\d{2}[./-]\\d{4}.*'\n",
    "mask = df['complementary_info'].astype(str).str.contains(date_pattern, regex=True)\n",
    "df_complementary_info_filter_dates = df[mask]\n",
    "df_complementary_info_filter_dates.to_csv(f'{OUTPUT_DIR}/df_complementary_info_filter_dates.csv', index=False)"
   ],
   "id": "81f50a2a99921ae1",
   "outputs": [],
   "execution_count": 4
  },
  {
   "metadata": {
    "ExecuteTime": {
     "end_time": "2025-08-28T15:21:21.586371Z",
     "start_time": "2025-08-28T15:21:21.538849Z"
    }
   },
   "cell_type": "code",
   "source": [
    "nltk.download('punkt_tab')\n",
    "stemmer = SnowballStemmer('italian')"
   ],
   "id": "b01f507182f69dba",
   "outputs": [
    {
     "name": "stderr",
     "output_type": "stream",
     "text": [
      "[nltk_data] Downloading package punkt_tab to /home/ivsnp/nltk_data...\n",
      "[nltk_data]   Package punkt_tab is already up-to-date!\n"
     ]
    }
   ],
   "execution_count": 5
  },
  {
   "metadata": {
    "ExecuteTime": {
     "end_time": "2025-08-28T15:21:21.612609Z",
     "start_time": "2025-08-28T15:21:21.608982Z"
    }
   },
   "cell_type": "code",
   "source": [
    "# keywords and acronyms to filter\n",
    "KEYWORDS = [\n",
    "    'delibera', 'deliberazione', 'deliberare',\n",
    "    'provvedimento',\n",
    "    'decreto',\n",
    "    'determinare', 'determina', 'determinazione', 'det', 'determinativo',\n",
    "    'atto', 'atti',\n",
    "    'direttiva',\n",
    "    'ordinanza',\n",
    "    'comunicato',\n",
    "    'disposizione'\n",
    "]\n",
    "KEYWORDS_STEMS = list(set([stemmer.stem(k) for k in KEYWORDS]))\n",
    "\n",
    "ACRONYMS = [\"DL\", \"DM\", \"DCM\", \"DPCM\", \"DLGS\", \"DAR\", \"DCR\", \"DGR\", \"DUPCR\", \"DCCR\", \"DPGR\", \"DDS\", \"DSGR\", \"DDUO\", \"DDG\", \"DCIPE\", \"CU\", \"Direttiva\", \"OCDPC\", \"Comunicato\", \"DSM\", \"DCMM\", \"DCoM\", \"DA\", \"DCC\", \"DCUC\", \"DGC\", \"DCS\", \"DD\", \"DRA\", \"DDP\", \"DPP\", \"DCP\", \"DGP\", \"CdG\", \"DComP\"]\n",
    "ACRONYMS = [a.lower() for a in ACRONYMS]\n",
    "ACRONYMS = ['.'.join(a) for a in ACRONYMS]\n",
    "\n",
    "def df_filtering(row):\n",
    "    text = row['complementary_info'].lower()\n",
    "    stemmed_text = [stemmer.stem(token) for token in word_tokenize(text)]\n",
    "\n",
    "    if any(a in text for a in ACRONYMS) or any(s in stemmed_text for s in KEYWORDS_STEMS):\n",
    "        return True\n",
    "    else:\n",
    "        return False"
   ],
   "id": "82a2e2ad408da908",
   "outputs": [],
   "execution_count": 6
  },
  {
   "metadata": {
    "ExecuteTime": {
     "end_time": "2025-08-28T15:21:36.158996Z",
     "start_time": "2025-08-28T15:21:21.660047Z"
    }
   },
   "cell_type": "code",
   "source": [
    "# filtering teds with dates, keywords (stems) and acronims\n",
    "mask = df_complementary_info_filter_dates.apply(df_filtering, axis=1)\n",
    "df_complementary_info_filter_dates_keywords_acronims = df_complementary_info_filter_dates[mask]\n",
    "df_complementary_info_filter_dates_keywords_acronims.to_csv(f'{OUTPUT_DIR}/df_complementary_info_filter_dates_keywords_acronims.csv', index=False)"
   ],
   "id": "370a9b37ec9827eb",
   "outputs": [],
   "execution_count": 7
  },
  {
   "metadata": {
    "ExecuteTime": {
     "end_time": "2025-08-28T15:21:36.216681Z",
     "start_time": "2025-08-28T15:21:36.212586Z"
    }
   },
   "cell_type": "code",
   "source": [
    "print(f\"TOT Tender Electronic Daily Documents: \", len(filenames_2022))\n",
    "print(f\"Tender Electronic Daily Documents with complementary info: \", len(df.index))\n",
    "print(f\"Tender Electronic Daily Documents with dates (dd/mm/yyy) in complementary info: \", len(df_complementary_info_filter_dates.index))\n",
    "print(f\"Tender Electronic Daily Documents with dates (dd/mm/yyy), keywords and acronyms in complementary info: \", len(df_complementary_info_filter_dates_keywords_acronims.index))"
   ],
   "id": "5bea08b2595cc6f",
   "outputs": [
    {
     "name": "stdout",
     "output_type": "stream",
     "text": [
      "TOT Tender Electronic Daily Documents:  27841\n",
      "Tender Electronic Daily Documents with complementary info:  10781\n",
      "Tender Electronic Daily Documents with dates (dd/mm/yyy) in complementary info:  3505\n",
      "Tender Electronic Daily Documents with dates (dd/mm/yyy), keywords and acronyms in complementary info:  2839\n"
     ]
    }
   ],
   "execution_count": 8
  },
  {
   "metadata": {
    "ExecuteTime": {
     "end_time": "2025-08-28T15:21:36.277441Z",
     "start_time": "2025-08-28T15:21:36.269195Z"
    }
   },
   "cell_type": "code",
   "source": "df_complementary_info_filter_dates_keywords_acronims",
   "id": "9b1f6241a26ff474",
   "outputs": [
    {
     "data": {
      "text/plain": [
       "          case_id                                 complementary_info\n",
       "2      219-630869  Atto esito di gara: Provvedimento DG n. 36 del...\n",
       "3      123-350412  RUP: dott.ssa Maria Lomboni. Delibera di aggiu...\n",
       "5      153-437453  1) il bando di gara, il fac-simile modulo di o...\n",
       "9      243-697432  Determinazione Agg.ne AD di Marche Multiserviz...\n",
       "11     035-089020  1) La procedura è gestita con il Sistema telem...\n",
       "...           ...                                                ...\n",
       "10755  204-580451  Determinazione e contrattare e contestuale ind...\n",
       "10759  248-722494  a) A pena di irregolarità non sanabile delle o...\n",
       "10763  040-102463  Il disciplinare di gara (contenente le norme i...\n",
       "10770  090-248021  1 Le disposizioni integrative del presente Ban...\n",
       "10777  146-418081  1) La procedura di gara è gestita con il Siste...\n",
       "\n",
       "[2839 rows x 2 columns]"
      ],
      "text/html": [
       "<div>\n",
       "<style scoped>\n",
       "    .dataframe tbody tr th:only-of-type {\n",
       "        vertical-align: middle;\n",
       "    }\n",
       "\n",
       "    .dataframe tbody tr th {\n",
       "        vertical-align: top;\n",
       "    }\n",
       "\n",
       "    .dataframe thead th {\n",
       "        text-align: right;\n",
       "    }\n",
       "</style>\n",
       "<table border=\"1\" class=\"dataframe\">\n",
       "  <thead>\n",
       "    <tr style=\"text-align: right;\">\n",
       "      <th></th>\n",
       "      <th>case_id</th>\n",
       "      <th>complementary_info</th>\n",
       "    </tr>\n",
       "  </thead>\n",
       "  <tbody>\n",
       "    <tr>\n",
       "      <th>2</th>\n",
       "      <td>219-630869</td>\n",
       "      <td>Atto esito di gara: Provvedimento DG n. 36 del...</td>\n",
       "    </tr>\n",
       "    <tr>\n",
       "      <th>3</th>\n",
       "      <td>123-350412</td>\n",
       "      <td>RUP: dott.ssa Maria Lomboni. Delibera di aggiu...</td>\n",
       "    </tr>\n",
       "    <tr>\n",
       "      <th>5</th>\n",
       "      <td>153-437453</td>\n",
       "      <td>1) il bando di gara, il fac-simile modulo di o...</td>\n",
       "    </tr>\n",
       "    <tr>\n",
       "      <th>9</th>\n",
       "      <td>243-697432</td>\n",
       "      <td>Determinazione Agg.ne AD di Marche Multiserviz...</td>\n",
       "    </tr>\n",
       "    <tr>\n",
       "      <th>11</th>\n",
       "      <td>035-089020</td>\n",
       "      <td>1) La procedura è gestita con il Sistema telem...</td>\n",
       "    </tr>\n",
       "    <tr>\n",
       "      <th>...</th>\n",
       "      <td>...</td>\n",
       "      <td>...</td>\n",
       "    </tr>\n",
       "    <tr>\n",
       "      <th>10755</th>\n",
       "      <td>204-580451</td>\n",
       "      <td>Determinazione e contrattare e contestuale ind...</td>\n",
       "    </tr>\n",
       "    <tr>\n",
       "      <th>10759</th>\n",
       "      <td>248-722494</td>\n",
       "      <td>a) A pena di irregolarità non sanabile delle o...</td>\n",
       "    </tr>\n",
       "    <tr>\n",
       "      <th>10763</th>\n",
       "      <td>040-102463</td>\n",
       "      <td>Il disciplinare di gara (contenente le norme i...</td>\n",
       "    </tr>\n",
       "    <tr>\n",
       "      <th>10770</th>\n",
       "      <td>090-248021</td>\n",
       "      <td>1 Le disposizioni integrative del presente Ban...</td>\n",
       "    </tr>\n",
       "    <tr>\n",
       "      <th>10777</th>\n",
       "      <td>146-418081</td>\n",
       "      <td>1) La procedura di gara è gestita con il Siste...</td>\n",
       "    </tr>\n",
       "  </tbody>\n",
       "</table>\n",
       "<p>2839 rows × 2 columns</p>\n",
       "</div>"
      ]
     },
     "execution_count": 9,
     "metadata": {},
     "output_type": "execute_result"
    }
   ],
   "execution_count": 9
  }
 ],
 "metadata": {
  "kernelspec": {
   "display_name": "Python 3",
   "language": "python",
   "name": "python3"
  },
  "language_info": {
   "codemirror_mode": {
    "name": "ipython",
    "version": 2
   },
   "file_extension": ".py",
   "mimetype": "text/x-python",
   "name": "python",
   "nbconvert_exporter": "python",
   "pygments_lexer": "ipython2",
   "version": "2.7.6"
  }
 },
 "nbformat": 4,
 "nbformat_minor": 5
}
